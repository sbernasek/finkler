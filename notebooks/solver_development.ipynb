{
 "cells": [
  {
   "cell_type": "code",
   "execution_count": 107,
   "metadata": {},
   "outputs": [],
   "source": [
    "import sys, os\n",
    "solver_path = '../'\n",
    "paths = ('../',)\n",
    "for p in paths:\n",
    "    if p not in sys.path:\n",
    "        sys.path.insert(0, p)\n",
    "\n",
    "import matplotlib.pyplot as plt\n",
    "import numpy as np\n",
    "%reload_ext autoreload\n",
    "%autoreload 2\n",
    "%matplotlib inline"
   ]
  },
  {
   "cell_type": "code",
   "execution_count": 108,
   "metadata": {},
   "outputs": [],
   "source": [
    "from rxndiffusion.cells import Cell"
   ]
  },
  {
   "cell_type": "code",
   "execution_count": 109,
   "metadata": {},
   "outputs": [
    {
     "data": {
      "text/plain": [
       "'\\nIC - wildtype steady state\\nnorm const - all normalized by max RNA concentration?\\n\\n'"
      ]
     },
     "execution_count": 109,
     "metadata": {},
     "output_type": "execute_result"
    }
   ],
   "source": [
    "\"\"\"\n",
    "IC - wildtype steady state\n",
    "norm const - all normalized by max RNA concentration?\n",
    "\n",
    "\"\"\""
   ]
  },
  {
   "cell_type": "code",
   "execution_count": 110,
   "metadata": {},
   "outputs": [
    {
     "data": {
      "text/html": [
       "<div>\n",
       "<style scoped>\n",
       "    .dataframe tbody tr th:only-of-type {\n",
       "        vertical-align: middle;\n",
       "    }\n",
       "\n",
       "    .dataframe tbody tr th {\n",
       "        vertical-align: top;\n",
       "    }\n",
       "\n",
       "    .dataframe thead th {\n",
       "        text-align: right;\n",
       "    }\n",
       "</style>\n",
       "<table border=\"1\" class=\"dataframe\">\n",
       "  <thead>\n",
       "    <tr style=\"text-align: right;\">\n",
       "      <th></th>\n",
       "      <th>a_0</th>\n",
       "      <th>a_1</th>\n",
       "      <th>a_2</th>\n",
       "      <th>a_3</th>\n",
       "      <th>bindsAsComplex_1</th>\n",
       "      <th>bindsAsComplex_2</th>\n",
       "      <th>delta</th>\n",
       "      <th>deltaProtein</th>\n",
       "      <th>input_species</th>\n",
       "      <th>k_1</th>\n",
       "      <th>k_2</th>\n",
       "      <th>max</th>\n",
       "      <th>maxTranslation</th>\n",
       "      <th>n_1</th>\n",
       "      <th>n_2</th>\n",
       "      <th>numActivators_1</th>\n",
       "      <th>numActivators_2</th>\n",
       "      <th>numDeactivators_1</th>\n",
       "      <th>numDeactivators_2</th>\n",
       "      <th>reacion_name</th>\n",
       "    </tr>\n",
       "  </thead>\n",
       "  <tbody>\n",
       "    <tr>\n",
       "      <th>G_degradation</th>\n",
       "      <td>NaN</td>\n",
       "      <td>NaN</td>\n",
       "      <td>NaN</td>\n",
       "      <td>NaN</td>\n",
       "      <td>NaN</td>\n",
       "      <td>NaN</td>\n",
       "      <td>0.018427</td>\n",
       "      <td>NaN</td>\n",
       "      <td>[]</td>\n",
       "      <td>NaN</td>\n",
       "      <td>NaN</td>\n",
       "      <td>NaN</td>\n",
       "      <td>NaN</td>\n",
       "      <td>NaN</td>\n",
       "      <td>NaN</td>\n",
       "      <td>NaN</td>\n",
       "      <td>NaN</td>\n",
       "      <td>NaN</td>\n",
       "      <td>NaN</td>\n",
       "      <td>G_degradation</td>\n",
       "    </tr>\n",
       "    <tr>\n",
       "      <th>G_synthesis</th>\n",
       "      <td>1.000000</td>\n",
       "      <td>NaN</td>\n",
       "      <td>NaN</td>\n",
       "      <td>NaN</td>\n",
       "      <td>NaN</td>\n",
       "      <td>NaN</td>\n",
       "      <td>NaN</td>\n",
       "      <td>0.045618</td>\n",
       "      <td>[]</td>\n",
       "      <td>NaN</td>\n",
       "      <td>NaN</td>\n",
       "      <td>0.018427</td>\n",
       "      <td>0.045618</td>\n",
       "      <td>NaN</td>\n",
       "      <td>NaN</td>\n",
       "      <td>NaN</td>\n",
       "      <td>NaN</td>\n",
       "      <td>NaN</td>\n",
       "      <td>NaN</td>\n",
       "      <td>G_synthesis: no inputs</td>\n",
       "    </tr>\n",
       "    <tr>\n",
       "      <th>u_degradation</th>\n",
       "      <td>NaN</td>\n",
       "      <td>NaN</td>\n",
       "      <td>NaN</td>\n",
       "      <td>NaN</td>\n",
       "      <td>NaN</td>\n",
       "      <td>NaN</td>\n",
       "      <td>0.023785</td>\n",
       "      <td>NaN</td>\n",
       "      <td>[]</td>\n",
       "      <td>NaN</td>\n",
       "      <td>NaN</td>\n",
       "      <td>NaN</td>\n",
       "      <td>NaN</td>\n",
       "      <td>NaN</td>\n",
       "      <td>NaN</td>\n",
       "      <td>NaN</td>\n",
       "      <td>NaN</td>\n",
       "      <td>NaN</td>\n",
       "      <td>NaN</td>\n",
       "      <td>u_degradation</td>\n",
       "    </tr>\n",
       "    <tr>\n",
       "      <th>u_synthesis</th>\n",
       "      <td>0.000000</td>\n",
       "      <td>NaN</td>\n",
       "      <td>NaN</td>\n",
       "      <td>NaN</td>\n",
       "      <td>NaN</td>\n",
       "      <td>NaN</td>\n",
       "      <td>NaN</td>\n",
       "      <td>0.039523</td>\n",
       "      <td>[]</td>\n",
       "      <td>NaN</td>\n",
       "      <td>NaN</td>\n",
       "      <td>0.023785</td>\n",
       "      <td>0.039523</td>\n",
       "      <td>NaN</td>\n",
       "      <td>NaN</td>\n",
       "      <td>NaN</td>\n",
       "      <td>NaN</td>\n",
       "      <td>NaN</td>\n",
       "      <td>NaN</td>\n",
       "      <td>u_synthesis: no inputs</td>\n",
       "    </tr>\n",
       "    <tr>\n",
       "      <th>x_degradation</th>\n",
       "      <td>NaN</td>\n",
       "      <td>NaN</td>\n",
       "      <td>NaN</td>\n",
       "      <td>NaN</td>\n",
       "      <td>NaN</td>\n",
       "      <td>NaN</td>\n",
       "      <td>0.019762</td>\n",
       "      <td>NaN</td>\n",
       "      <td>[]</td>\n",
       "      <td>NaN</td>\n",
       "      <td>NaN</td>\n",
       "      <td>NaN</td>\n",
       "      <td>NaN</td>\n",
       "      <td>NaN</td>\n",
       "      <td>NaN</td>\n",
       "      <td>NaN</td>\n",
       "      <td>NaN</td>\n",
       "      <td>NaN</td>\n",
       "      <td>NaN</td>\n",
       "      <td>x_degradation</td>\n",
       "    </tr>\n",
       "    <tr>\n",
       "      <th>x_synthesis</th>\n",
       "      <td>0.052535</td>\n",
       "      <td>1.000000</td>\n",
       "      <td>NaN</td>\n",
       "      <td>NaN</td>\n",
       "      <td>1.0</td>\n",
       "      <td>NaN</td>\n",
       "      <td>NaN</td>\n",
       "      <td>0.022765</td>\n",
       "      <td>[u]</td>\n",
       "      <td>0.010000</td>\n",
       "      <td>NaN</td>\n",
       "      <td>0.019762</td>\n",
       "      <td>0.022765</td>\n",
       "      <td>1.000000</td>\n",
       "      <td>NaN</td>\n",
       "      <td>1.0</td>\n",
       "      <td>NaN</td>\n",
       "      <td>0.0</td>\n",
       "      <td>NaN</td>\n",
       "      <td>x_synthesis: (1)</td>\n",
       "    </tr>\n",
       "    <tr>\n",
       "      <th>y_degradation</th>\n",
       "      <td>NaN</td>\n",
       "      <td>NaN</td>\n",
       "      <td>NaN</td>\n",
       "      <td>NaN</td>\n",
       "      <td>NaN</td>\n",
       "      <td>NaN</td>\n",
       "      <td>0.028118</td>\n",
       "      <td>NaN</td>\n",
       "      <td>[]</td>\n",
       "      <td>NaN</td>\n",
       "      <td>NaN</td>\n",
       "      <td>NaN</td>\n",
       "      <td>NaN</td>\n",
       "      <td>NaN</td>\n",
       "      <td>NaN</td>\n",
       "      <td>NaN</td>\n",
       "      <td>NaN</td>\n",
       "      <td>NaN</td>\n",
       "      <td>NaN</td>\n",
       "      <td>y_degradation</td>\n",
       "    </tr>\n",
       "    <tr>\n",
       "      <th>y_synthesis</th>\n",
       "      <td>0.009989</td>\n",
       "      <td>0.610512</td>\n",
       "      <td>0.715398</td>\n",
       "      <td>1.0</td>\n",
       "      <td>1.0</td>\n",
       "      <td>0.0</td>\n",
       "      <td>NaN</td>\n",
       "      <td>0.034061</td>\n",
       "      <td>[x, G]</td>\n",
       "      <td>0.793074</td>\n",
       "      <td>0.754036</td>\n",
       "      <td>0.028118</td>\n",
       "      <td>0.034061</td>\n",
       "      <td>3.031295</td>\n",
       "      <td>2.191012</td>\n",
       "      <td>1.0</td>\n",
       "      <td>1.0</td>\n",
       "      <td>0.0</td>\n",
       "      <td>0.0</td>\n",
       "      <td>y_synthesis: (1) + (2)</td>\n",
       "    </tr>\n",
       "  </tbody>\n",
       "</table>\n",
       "</div>"
      ],
      "text/plain": [
       "                    a_0       a_1       a_2  a_3  bindsAsComplex_1  \\\n",
       "G_degradation       NaN       NaN       NaN  NaN               NaN   \n",
       "G_synthesis    1.000000       NaN       NaN  NaN               NaN   \n",
       "u_degradation       NaN       NaN       NaN  NaN               NaN   \n",
       "u_synthesis    0.000000       NaN       NaN  NaN               NaN   \n",
       "x_degradation       NaN       NaN       NaN  NaN               NaN   \n",
       "x_synthesis    0.052535  1.000000       NaN  NaN               1.0   \n",
       "y_degradation       NaN       NaN       NaN  NaN               NaN   \n",
       "y_synthesis    0.009989  0.610512  0.715398  1.0               1.0   \n",
       "\n",
       "               bindsAsComplex_2     delta  deltaProtein input_species  \\\n",
       "G_degradation               NaN  0.018427           NaN            []   \n",
       "G_synthesis                 NaN       NaN      0.045618            []   \n",
       "u_degradation               NaN  0.023785           NaN            []   \n",
       "u_synthesis                 NaN       NaN      0.039523            []   \n",
       "x_degradation               NaN  0.019762           NaN            []   \n",
       "x_synthesis                 NaN       NaN      0.022765           [u]   \n",
       "y_degradation               NaN  0.028118           NaN            []   \n",
       "y_synthesis                 0.0       NaN      0.034061        [x, G]   \n",
       "\n",
       "                    k_1       k_2       max  maxTranslation       n_1  \\\n",
       "G_degradation       NaN       NaN       NaN             NaN       NaN   \n",
       "G_synthesis         NaN       NaN  0.018427        0.045618       NaN   \n",
       "u_degradation       NaN       NaN       NaN             NaN       NaN   \n",
       "u_synthesis         NaN       NaN  0.023785        0.039523       NaN   \n",
       "x_degradation       NaN       NaN       NaN             NaN       NaN   \n",
       "x_synthesis    0.010000       NaN  0.019762        0.022765  1.000000   \n",
       "y_degradation       NaN       NaN       NaN             NaN       NaN   \n",
       "y_synthesis    0.793074  0.754036  0.028118        0.034061  3.031295   \n",
       "\n",
       "                    n_2  numActivators_1  numActivators_2  numDeactivators_1  \\\n",
       "G_degradation       NaN              NaN              NaN                NaN   \n",
       "G_synthesis         NaN              NaN              NaN                NaN   \n",
       "u_degradation       NaN              NaN              NaN                NaN   \n",
       "u_synthesis         NaN              NaN              NaN                NaN   \n",
       "x_degradation       NaN              NaN              NaN                NaN   \n",
       "x_synthesis         NaN              1.0              NaN                0.0   \n",
       "y_degradation       NaN              NaN              NaN                NaN   \n",
       "y_synthesis    2.191012              1.0              1.0                0.0   \n",
       "\n",
       "               numDeactivators_2            reacion_name  \n",
       "G_degradation                NaN           G_degradation  \n",
       "G_synthesis                  NaN  G_synthesis: no inputs  \n",
       "u_degradation                NaN           u_degradation  \n",
       "u_synthesis                  NaN  u_synthesis: no inputs  \n",
       "x_degradation                NaN           x_degradation  \n",
       "x_synthesis                  NaN        x_synthesis: (1)  \n",
       "y_degradation                NaN           y_degradation  \n",
       "y_synthesis                  0.0  y_synthesis: (1) + (2)  "
      ]
     },
     "execution_count": 110,
     "metadata": {},
     "output_type": "execute_result"
    }
   ],
   "source": [
    "model"
   ]
  },
  {
   "cell_type": "code",
   "execution_count": 112,
   "metadata": {},
   "outputs": [],
   "source": [
    "cell = Cell()\n",
    "cell.add_gene(name='u', k=.039523, g1=.023785, g2=.039523)\n",
    "cell.add_gene(name='x', k=.022765, g1=.019762, g2=.022765)\n",
    "cell.add_gene(name='y', k=.034061, g1=.028118, g2=.034061)\n",
    "cell.add_gene(name='g', k=.045618, g1=.018427, g2=.045618)\n",
    "\n",
    "# input transcription\n",
    "s = 1\n",
    "cell.add_transcription('u', factors=None, k=.023785, alpha=[0], k_m=None, n=None, rho=1)\n",
    "cell.add_transcription('g', factors=None, k=0.018427, alpha=[1/s], k_m=None, n=None, rho=1)\n",
    "cell.add_transcription('x', factors=('u'), k=0.019762, alpha=[0.052535/s, 1/s], k_m=[0.01/s], n=[1/s], rho=1)\n",
    "cell.add_transcription('y', factors=('x', 'g'), k=0.028118, alpha=[0.0099887333/s, 0.6105120514/s, 0.7153982451/s, 1.0/s], k_m=[0.793074/s, 0.754036/s], n=[3.031295, 2.191012], rho=1)"
   ]
  },
  {
   "cell_type": "code",
   "execution_count": null,
   "metadata": {},
   "outputs": [],
   "source": [
    "\"\"\"\n",
    "try running GNW and seeing how input params relate to otuput params\n",
    "\n",
    "1. write code to get nondimensionalization terms (solve for max conc)\n",
    "2. write code to get get SS\n",
    "\n",
    "\n",
    "\"\"\""
   ]
  },
  {
   "cell_type": "code",
   "execution_count": null,
   "metadata": {},
   "outputs": [],
   "source": []
  },
  {
   "cell_type": "code",
   "execution_count": 113,
   "metadata": {},
   "outputs": [],
   "source": [
    "ic = np.ones(cell.nodes.size)*1\n",
    "simulation = MonteCarloSimulation(cell, ic=ic)"
   ]
  },
  {
   "cell_type": "code",
   "execution_count": 114,
   "metadata": {},
   "outputs": [],
   "source": [
    "out = simulation.run(input_function=cSignal(0.), num_trials=1, duration=1000, dt=1)"
   ]
  },
  {
   "cell_type": "code",
   "execution_count": 115,
   "metadata": {},
   "outputs": [
    {
     "data": {
      "image/png": "[encoded data removed]",
      "text/plain": [
       "<Figure size 288x216 with 1 Axes>"
      ]
     },
     "metadata": {},
     "output_type": "display_data"
    }
   ],
   "source": [
    "out.plot_samples(dims=(cell.proteins['u'],))"
   ]
  },
  {
   "cell_type": "code",
   "execution_count": 46,
   "metadata": {},
   "outputs": [
    {
     "data": {
      "text/plain": [
       "array([[[100,  98,  96, ...,   0,   0,   0],\n",
       "        [100,  96,  99, ...,   0,   0,   0],\n",
       "        [100,  99,  96, ...,   1,   1,   1],\n",
       "        ...,\n",
       "        [100, 102,  98, ...,   0,   0,   0],\n",
       "        [100,  97,  96, ...,   0,   0,   0],\n",
       "        [100,  99, 101, ...,   0,   0,   0]]], dtype=uint32)"
      ]
     },
     "execution_count": 46,
     "metadata": {},
     "output_type": "execute_result"
    }
   ],
   "source": [
    "out.states"
   ]
  },
  {
   "cell_type": "code",
   "execution_count": null,
   "metadata": {},
   "outputs": [],
   "source": []
  },
  {
   "cell_type": "code",
   "execution_count": null,
   "metadata": {},
   "outputs": [],
   "source": []
  },
  {
   "cell_type": "code",
   "execution_count": null,
   "metadata": {},
   "outputs": [],
   "source": []
  },
  {
   "cell_type": "code",
   "execution_count": 6,
   "metadata": {},
   "outputs": [],
   "source": [
    "from rxndiffusion.solver.signals import cSignal\n",
    "from rxndiffusion.simulate import MonteCarloSimulation"
   ]
  },
  {
   "cell_type": "code",
   "execution_count": 15,
   "metadata": {},
   "outputs": [],
   "source": [
    "import pandas as pd"
   ]
  },
  {
   "cell_type": "code",
   "execution_count": 20,
   "metadata": {},
   "outputs": [],
   "source": [
    "string = '{\"a_0\":{\"u_synthesis\":0.0,\"x_synthesis\":0.0525348357,\"u_degradation\":null,\"x_degradation\":null,\"G_degradation\":null,\"G_synthesis\":1.0,\"y_degradation\":null,\"y_synthesis\":0.0099887333},\"a_1\":{\"u_synthesis\":null,\"x_synthesis\":1.0,\"u_degradation\":null,\"x_degradation\":null,\"G_degradation\":null,\"G_synthesis\":null,\"y_degradation\":null,\"y_synthesis\":0.6105120514},\"a_2\":{\"u_synthesis\":null,\"x_synthesis\":null,\"u_degradation\":null,\"x_degradation\":null,\"G_degradation\":null,\"G_synthesis\":null,\"y_degradation\":null,\"y_synthesis\":0.7153982451},\"a_3\":{\"u_synthesis\":null,\"x_synthesis\":null,\"u_degradation\":null,\"x_degradation\":null,\"G_degradation\":null,\"G_synthesis\":null,\"y_degradation\":null,\"y_synthesis\":1.0},\"bindsAsComplex_1\":{\"u_synthesis\":null,\"x_synthesis\":1.0,\"u_degradation\":null,\"x_degradation\":null,\"G_degradation\":null,\"G_synthesis\":null,\"y_degradation\":null,\"y_synthesis\":1.0},\"bindsAsComplex_2\":{\"u_synthesis\":null,\"x_synthesis\":null,\"u_degradation\":null,\"x_degradation\":null,\"G_degradation\":null,\"G_synthesis\":null,\"y_degradation\":null,\"y_synthesis\":0.0},\"delta\":{\"u_synthesis\":null,\"x_synthesis\":null,\"u_degradation\":0.02378463,\"x_degradation\":0.0197623502,\"G_degradation\":0.0184274487,\"G_synthesis\":null,\"y_degradation\":0.0281179978,\"y_synthesis\":null},\"deltaProtein\":{\"u_synthesis\":0.0395225603,\"x_synthesis\":0.0227651688,\"u_degradation\":null,\"x_degradation\":null,\"G_degradation\":null,\"G_synthesis\":0.0456182946,\"y_degradation\":null,\"y_synthesis\":0.034060765},\"input_species\":{\"u_synthesis\":[],\"x_synthesis\":[\"u\"],\"u_degradation\":[],\"x_degradation\":[],\"G_degradation\":[],\"G_synthesis\":[],\"y_degradation\":[],\"y_synthesis\":[\"x\",\"G\"]},\"k_1\":{\"u_synthesis\":null,\"x_synthesis\":0.01,\"u_degradation\":null,\"x_degradation\":null,\"G_degradation\":null,\"G_synthesis\":null,\"y_degradation\":null,\"y_synthesis\":0.7930738261},\"k_2\":{\"u_synthesis\":null,\"x_synthesis\":null,\"u_degradation\":null,\"x_degradation\":null,\"G_degradation\":null,\"G_synthesis\":null,\"y_degradation\":null,\"y_synthesis\":0.754035527},\"max\":{\"u_synthesis\":0.02378463,\"x_synthesis\":0.0197623502,\"u_degradation\":null,\"x_degradation\":null,\"G_degradation\":null,\"G_synthesis\":0.0184274487,\"y_degradation\":null,\"y_synthesis\":0.0281179978},\"maxTranslation\":{\"u_synthesis\":0.0395225603,\"x_synthesis\":0.0227651688,\"u_degradation\":null,\"x_degradation\":null,\"G_degradation\":null,\"G_synthesis\":0.0456182946,\"y_degradation\":null,\"y_synthesis\":0.034060765},\"n_1\":{\"u_synthesis\":null,\"x_synthesis\":1.0,\"u_degradation\":null,\"x_degradation\":null,\"G_degradation\":null,\"G_synthesis\":null,\"y_degradation\":null,\"y_synthesis\":3.0312945854},\"n_2\":{\"u_synthesis\":null,\"x_synthesis\":null,\"u_degradation\":null,\"x_degradation\":null,\"G_degradation\":null,\"G_synthesis\":null,\"y_degradation\":null,\"y_synthesis\":2.1910115826},\"numActivators_1\":{\"u_synthesis\":null,\"x_synthesis\":1.0,\"u_degradation\":null,\"x_degradation\":null,\"G_degradation\":null,\"G_synthesis\":null,\"y_degradation\":null,\"y_synthesis\":1.0},\"numActivators_2\":{\"u_synthesis\":null,\"x_synthesis\":null,\"u_degradation\":null,\"x_degradation\":null,\"G_degradation\":null,\"G_synthesis\":null,\"y_degradation\":null,\"y_synthesis\":1.0},\"numDeactivators_1\":{\"u_synthesis\":null,\"x_synthesis\":0.0,\"u_degradation\":null,\"x_degradation\":null,\"G_degradation\":null,\"G_synthesis\":null,\"y_degradation\":null,\"y_synthesis\":0.0},\"numDeactivators_2\":{\"u_synthesis\":null,\"x_synthesis\":null,\"u_degradation\":null,\"x_degradation\":null,\"G_degradation\":null,\"G_synthesis\":null,\"y_degradation\":null,\"y_synthesis\":0.0},\"reacion_name\":{\"u_synthesis\":\"u_synthesis: no inputs\",\"x_synthesis\":\"x_synthesis: (1)\",\"u_degradation\":\"u_degradation\",\"x_degradation\":\"x_degradation\",\"G_degradation\":\"G_degradation\",\"G_synthesis\":\"G_synthesis: no inputs\",\"y_degradation\":\"y_degradation\",\"y_synthesis\":\"y_synthesis: (1) + (2)\"}}'\n",
    "model = pd.read_json(string)"
   ]
  },
  {
   "cell_type": "code",
   "execution_count": 19,
   "metadata": {},
   "outputs": [],
   "source": []
  },
  {
   "cell_type": "code",
   "execution_count": null,
   "metadata": {},
   "outputs": [],
   "source": []
  },
  {
   "cell_type": "code",
   "execution_count": null,
   "metadata": {},
   "outputs": [],
   "source": []
  },
  {
   "cell_type": "code",
   "execution_count": 2,
   "metadata": {},
   "outputs": [],
   "source": [
    "\n",
    "\n",
    "from circadian.oscillator import Oscillator\n",
    "from circadian.population import Population\n",
    "\n",
    "from rxndiffusion.solver.signals import cSignal\n",
    "from rxndiffusion.solver.rxns import RateFunction\n",
    "from array import array"
   ]
  },
  {
   "cell_type": "code",
   "execution_count": 3,
   "metadata": {},
   "outputs": [
    {
     "data": {
      "text/plain": [
       "' Firing the wrong reaction... need to adjust rxn_fired to new vector lengths '"
      ]
     },
     "execution_count": 3,
     "metadata": {},
     "output_type": "execute_result"
    }
   ],
   "source": [
    "\"\"\" Firing the wrong reaction... need to adjust rxn_fired to new vector lengths \"\"\""
   ]
  },
  {
   "cell_type": "code",
   "execution_count": 8,
   "metadata": {},
   "outputs": [],
   "source": [
    "# ic = np.ones(cell.nodes.size)*100\n",
    "# simulation = MonteCarloSimulation(cell, ic=ic)\n",
    "# simulation.run(input_function=cSignal(0.), num_trials=1, duration=1, dt=1)"
   ]
  },
  {
   "cell_type": "code",
   "execution_count": 6,
   "metadata": {},
   "outputs": [],
   "source": [
    "cell = Population(Oscillator(transcription=False, omega=100), replicates=10)\n",
    "cell.add_dense_coupling(a=0.2, w=.005)\n",
    "#cell = Oscillator(transcription=True, omega=100)\n",
    "#cell.reactions = [rxn for rxn in cell.reactions if rxn.__class__.__name__!='Reaction']\n",
    "cell.sort_rxns()"
   ]
  },
  {
   "cell_type": "code",
   "execution_count": 7,
   "metadata": {},
   "outputs": [],
   "source": [
    "ic = np.ones(cell.nodes.size)*100\n",
    "simulation = MonteCarloSimulation(cell, ic=ic)\n",
    "out = simulation.run(input_function=cSignal(0.), num_trials=1, duration=24*10, dt=1)"
   ]
  },
  {
   "cell_type": "code",
   "execution_count": 8,
   "metadata": {},
   "outputs": [
    {
     "data": {
      "image/png": "[encoded data removed]",
      "text/plain": [
       "<Figure size 288x216 with 1 Axes>"
      ]
     },
     "metadata": {},
     "output_type": "display_data"
    }
   ],
   "source": [
    "out.plot_samples(dims=(cell.proteins[0]['nC'],))"
   ]
  },
  {
   "cell_type": "code",
   "execution_count": 4,
   "metadata": {},
   "outputs": [],
   "source": []
  },
  {
   "cell_type": "code",
   "execution_count": 29,
   "metadata": {},
   "outputs": [
    {
     "data": {
      "text/plain": [
       "array([0, 0, 0, 0, 0, 0, 0, 0, 1, 0])"
      ]
     },
     "execution_count": 29,
     "metadata": {},
     "output_type": "execute_result"
    }
   ],
   "source": [
    "rxn.propensity"
   ]
  },
  {
   "cell_type": "code",
   "execution_count": 41,
   "metadata": {},
   "outputs": [
    {
     "data": {
      "text/plain": [
       "'EnzymaticReaction'"
      ]
     },
     "execution_count": 41,
     "metadata": {},
     "output_type": "execute_result"
    }
   ],
   "source": [
    "rxn_id = 2\n",
    "\n",
    "# define cell and inpute\n",
    "cell = Oscillator(transcription=True, omega=100)\n",
    "cell.sort_rxns()\n",
    "states = array('l', 20*np.ones(cell.nodes.size, dtype=np.int64)) \n",
    "cumul = array('d', 10*np.ones(cell.nodes.size, dtype=np.float64))\n",
    "input_value = cSignal(1)(0)\n",
    "\n",
    "\n",
    "rf = RateFunction(cell)\n",
    "rxn_name = dict(Coupling=0, Reaction=1, EnzymaticReaction=2)\n",
    "rxn_types = [rxn.__class__.__name__ for rxn in cell.reactions]\n",
    "rxn_types[rxn_id]"
   ]
  },
  {
   "cell_type": "code",
   "execution_count": 42,
   "metadata": {},
   "outputs": [
    {
     "data": {
      "text/plain": [
       "35.0"
      ]
     },
     "execution_count": 42,
     "metadata": {},
     "output_type": "execute_result"
    }
   ],
   "source": [
    "rf.cRateFunction.evaluate(rxn_id, states, input_value, cumul)"
   ]
  },
  {
   "cell_type": "code",
   "execution_count": 43,
   "metadata": {},
   "outputs": [
    {
     "data": {
      "text/plain": [
       "array([35.])"
      ]
     },
     "execution_count": 43,
     "metadata": {},
     "output_type": "execute_result"
    }
   ],
   "source": [
    "rxn = cell.reactions[rxn_id]\n",
    "rxn.get_rate(np.array(states), np.array(input_value))"
   ]
  },
  {
   "cell_type": "code",
   "execution_count": 5,
   "metadata": {},
   "outputs": [],
   "source": [
    "n_active_species = array('l', [1, 1, 1, 1, 1, 1, 1, 1, 1, 1, 2, 1, 1, 1, 1, 1])\n",
    "species = array('l', [0, 0, 1, 2, 2, 3, 4, 5, 6, 7, 5, 7, 8, 8, 8, 9, 9])\n",
    "species_dependence = array('d', [1.0, 1.0, 1.0, 1.0, 1.0, 1.0, 1.0, 1.0, 1.0, 1.0, 1.0, 1.0, 1.0, 1.0, 1.0, 1.0, 1.0])\n",
    "species_ind = array('l', [0, 1, 2, 3, 4, 5, 6, 7, 8, 9, 10, 12, 13, 14, 15, 16, 17])"
   ]
  },
  {
   "cell_type": "code",
   "execution_count": 8,
   "metadata": {
    "scrolled": true
   },
   "outputs": [
    {
     "name": "stdout",
     "output_type": "stream",
     "text": [
      "count 0\n",
      "state 8\n",
      "n 20\n",
      "k 1.0\n",
      "activity 20\n"
     ]
    },
    {
     "data": {
      "text/plain": [
       "20"
      ]
     },
     "execution_count": 8,
     "metadata": {},
     "output_type": "execute_result"
    }
   ],
   "source": [
    "get_species_activity_product(11, states)"
   ]
  },
  {
   "cell_type": "code",
   "execution_count": 7,
   "metadata": {},
   "outputs": [],
   "source": [
    "def get_species_activity_product(rxn, states):\n",
    "    \"\"\" Integrate species activity for specified reaction. \"\"\"\n",
    "    \n",
    "    index = species_ind[rxn]\n",
    "    N = n_active_species[rxn]\n",
    "    activity = 1\n",
    "\n",
    "    # integrate species activity\n",
    "    for count in range(N):\n",
    "        dim = species[index]\n",
    "        n = states[dim]\n",
    "        k = species_dependence[index]\n",
    "        if k == 1:\n",
    "            activity *= n\n",
    "        elif k == 2:\n",
    "            activity *= (n*(n-1)/2)\n",
    "        else:\n",
    "            activity = 0\n",
    "        index += 1\n",
    "        \n",
    "    print('count', count)\n",
    "    print('state', dim)\n",
    "    print('n', n)\n",
    "    print('k', k)\n",
    "    print('activity', activity)\n",
    "\n",
    "    return activity"
   ]
  },
  {
   "cell_type": "code",
   "execution_count": null,
   "metadata": {},
   "outputs": [],
   "source": []
  },
  {
   "cell_type": "code",
   "execution_count": null,
   "metadata": {},
   "outputs": [],
   "source": []
  },
  {
   "cell_type": "code",
   "execution_count": null,
   "metadata": {},
   "outputs": [],
   "source": [
    "cdef double get_species_activity(self, int rxn, array states) nogil:\n",
    "        return <double>self.get_species_activity_product(rxn, states)\n",
    "\n",
    "cdef int get_species_activity_product(self, int rxn, array states) nogil:\n",
    "    \"\"\" Integrate species activity for specified reaction. \"\"\"\n",
    "    cdef int count, n, k\n",
    "    cdef int index = self.species_ind.data.as_longs[rxn]\n",
    "    cdef int N = self.n_active_species.data.as_longs[rxn]\n",
    "    cdef int activity = 1\n",
    "\n",
    "    # integrate species activity\n",
    "    for count in xrange(N):\n",
    "        n = states.data.as_longs[index]\n",
    "        k = self.species_dependence.data.as_longs[index]\n",
    "        if k == 1:\n",
    "            activity *= n\n",
    "        elif k == 2:\n",
    "            activity *= (n*(n-1)/2)\n",
    "        else:\n",
    "            activity = 0\n",
    "        index += 1\n",
    "\n",
    "    return activity\n",
    "\n",
    "cdef double get_species_activity_sum(self, int rxn, array states) nogil:\n",
    "    \"\"\" Integrate species activity for specified reaction. \"\"\"\n",
    "    cdef int count, n, k\n",
    "    cdef int index = self.species_ind.data.as_longs[rxn]\n",
    "    cdef int N = self.n_active_species.data.as_longs[rxn]\n",
    "    cdef int activity = 0\n",
    "\n",
    "    # integrate species activity\n",
    "    for count in xrange(N):\n",
    "        n = states.data.as_longs[index]\n",
    "        k = self.species_dependence.data.as_longs[index]\n",
    "        activity += (n * k)\n",
    "        index += 1\n",
    "\n",
    "    return activity"
   ]
  },
  {
   "cell_type": "code",
   "execution_count": null,
   "metadata": {},
   "outputs": [],
   "source": []
  },
  {
   "cell_type": "code",
   "execution_count": null,
   "metadata": {},
   "outputs": [],
   "source": []
  },
  {
   "cell_type": "code",
   "execution_count": 6,
   "metadata": {},
   "outputs": [],
   "source": [
    "from rxndiffusion.solver.rxns import cRxnMap, RateFunction"
   ]
  },
  {
   "cell_type": "code",
   "execution_count": 9,
   "metadata": {},
   "outputs": [],
   "source": [
    "adict = RateFunction.get_rxn_map(cell)"
   ]
  },
  {
   "cell_type": "code",
   "execution_count": 14,
   "metadata": {},
   "outputs": [
    {
     "data": {
      "text/plain": [
       "array([17, 18,  3,  2, 14, 15,  2, 14, 15, 17, 18,  3,  4,  5,  6, 16, 20,\n",
       "        4,  5,  6, 16, 20,  5,  6,  7, 12, 20, 21, 24,  5,  6,  7, 12, 20,\n",
       "       21, 24,  8,  9, 10, 19, 22,  8,  9, 10, 19, 22,  9, 10, 11, 13, 22,\n",
       "       23, 24,  9, 10, 11, 13, 22, 23, 24, 24, 12, 21,  7, 24, 11, 13, 23,\n",
       "        2, 14, 15, 16,  4, 16,  4, 17, 18,  3,  8, 19,  8, 19, 20,  5,  6,\n",
       "       24, 12, 21,  7,  9, 10, 22, 24, 11, 13, 23,  7, 11, 12, 13, 21, 23,\n",
       "       24, 25, 26, 27,  7, 11, 12, 13, 21, 23, 24, 25, 26, 27, 25, 26, 27,\n",
       "        0,  1, 25, 26, 27, 28, 29,  0,  1, 25, 26, 27, 28, 29,  0,  1, 28,\n",
       "       29])"
      ]
     },
     "execution_count": 14,
     "metadata": {},
     "output_type": "execute_result"
    }
   ],
   "source": [
    "a,b,c = cRxnMap.dict_to_array(adict)\n",
    "\n",
    "c"
   ]
  },
  {
   "cell_type": "code",
   "execution_count": 6,
   "metadata": {},
   "outputs": [],
   "source": [
    "rxns = [rxn for rxn in cell.reactions if rxn.__class__.__name__=='EnzymaticReaction']"
   ]
  },
  {
   "cell_type": "code",
   "execution_count": 8,
   "metadata": {},
   "outputs": [
    {
     "data": {
      "text/plain": [
       "array([0, 2, 1, 4, 4, 5, 3, 6, 6, 7, 5, 7])"
      ]
     },
     "execution_count": 8,
     "metadata": {},
     "output_type": "execute_result"
    }
   ],
   "source": [
    "species = np.hstack([rxn.active_substrates for rxn in rxns])\n",
    "species"
   ]
  },
  {
   "cell_type": "code",
   "execution_count": 11,
   "metadata": {},
   "outputs": [],
   "source": [
    "reps = reduce(add, [rxn.repressors for rxn in rxns])"
   ]
  },
  {
   "cell_type": "code",
   "execution_count": 17,
   "metadata": {},
   "outputs": [
    {
     "data": {
      "text/plain": [
       "[]"
      ]
     },
     "execution_count": 17,
     "metadata": {},
     "output_type": "execute_result"
    }
   ],
   "source": [
    "\n",
    "#np.hstack()\n",
    "\n",
    "[rxn.active_substrates for rxn in reps]"
   ]
  },
  {
   "cell_type": "code",
   "execution_count": 14,
   "metadata": {},
   "outputs": [
    {
     "ename": "ValueError",
     "evalue": "need at least one array to concatenate",
     "output_type": "error",
     "traceback": [
      "\u001b[0;31m---------------------------------------------------------------------------\u001b[0m",
      "\u001b[0;31mValueError\u001b[0m                                Traceback (most recent call last)",
      "\u001b[0;32m<ipython-input-14-14ce31bf1577>\u001b[0m in \u001b[0;36m<module>\u001b[0;34m()\u001b[0m\n\u001b[1;32m      1\u001b[0m \u001b[0mspecies_ind\u001b[0m \u001b[0;34m=\u001b[0m\u001b[0mnp\u001b[0m\u001b[0;34m.\u001b[0m\u001b[0mcumsum\u001b[0m\u001b[0;34m(\u001b[0m\u001b[0;34m[\u001b[0m\u001b[0;36m0\u001b[0m\u001b[0;34m]\u001b[0m\u001b[0;34m+\u001b[0m\u001b[0;34m[\u001b[0m\u001b[0mrxn\u001b[0m\u001b[0;34m.\u001b[0m\u001b[0mnum_active_substrates\u001b[0m \u001b[0;32mfor\u001b[0m \u001b[0mrxn\u001b[0m \u001b[0;32min\u001b[0m \u001b[0mreps\u001b[0m\u001b[0;34m]\u001b[0m\u001b[0;34m)\u001b[0m\u001b[0;34m\u001b[0m\u001b[0m\n\u001b[0;32m----> 2\u001b[0;31m \u001b[0mspecies\u001b[0m \u001b[0;34m=\u001b[0m \u001b[0mnp\u001b[0m\u001b[0;34m.\u001b[0m\u001b[0mhstack\u001b[0m\u001b[0;34m(\u001b[0m\u001b[0;34m[\u001b[0m\u001b[0mrxn\u001b[0m\u001b[0;34m.\u001b[0m\u001b[0mactive_substrates\u001b[0m \u001b[0;32mfor\u001b[0m \u001b[0mrxn\u001b[0m \u001b[0;32min\u001b[0m \u001b[0mreps\u001b[0m\u001b[0;34m]\u001b[0m\u001b[0;34m)\u001b[0m\u001b[0;34m\u001b[0m\u001b[0m\n\u001b[0m\u001b[1;32m      3\u001b[0m \u001b[0mspecies_dependence\u001b[0m \u001b[0;34m=\u001b[0m \u001b[0mnp\u001b[0m\u001b[0;34m.\u001b[0m\u001b[0mhstack\u001b[0m\u001b[0;34m(\u001b[0m\u001b[0;34m[\u001b[0m\u001b[0mrxn\u001b[0m\u001b[0;34m.\u001b[0m\u001b[0m_propensity\u001b[0m \u001b[0;32mfor\u001b[0m \u001b[0mrxn\u001b[0m \u001b[0;32min\u001b[0m \u001b[0mreps\u001b[0m\u001b[0;34m]\u001b[0m\u001b[0;34m)\u001b[0m\u001b[0;34m\u001b[0m\u001b[0m\n\u001b[1;32m      4\u001b[0m \u001b[0minputs_ind\u001b[0m \u001b[0;34m=\u001b[0m \u001b[0mnp\u001b[0m\u001b[0;34m.\u001b[0m\u001b[0mcumsum\u001b[0m\u001b[0;34m(\u001b[0m\u001b[0;34m[\u001b[0m\u001b[0;36m0\u001b[0m\u001b[0;34m]\u001b[0m\u001b[0;34m+\u001b[0m\u001b[0;34m[\u001b[0m\u001b[0mrxn\u001b[0m\u001b[0;34m.\u001b[0m\u001b[0mnum_active_inputs\u001b[0m \u001b[0;32mfor\u001b[0m \u001b[0mrxn\u001b[0m \u001b[0;32min\u001b[0m \u001b[0mreps\u001b[0m\u001b[0;34m]\u001b[0m\u001b[0;34m)\u001b[0m\u001b[0;34m\u001b[0m\u001b[0m\n\u001b[1;32m      5\u001b[0m \u001b[0minputs\u001b[0m \u001b[0;34m=\u001b[0m \u001b[0mnp\u001b[0m\u001b[0;34m.\u001b[0m\u001b[0mhstack\u001b[0m\u001b[0;34m(\u001b[0m\u001b[0;34m[\u001b[0m\u001b[0mrxn\u001b[0m\u001b[0;34m.\u001b[0m\u001b[0mactive_inputs\u001b[0m \u001b[0;32mfor\u001b[0m \u001b[0mrxn\u001b[0m \u001b[0;32min\u001b[0m \u001b[0mreps\u001b[0m\u001b[0;34m]\u001b[0m\u001b[0;34m)\u001b[0m\u001b[0;34m\u001b[0m\u001b[0m\n",
      "\u001b[0;32m~/.virtualenvs/rxndiffusion/lib/python3.6/site-packages/numpy/core/shape_base.py\u001b[0m in \u001b[0;36mhstack\u001b[0;34m(tup)\u001b[0m\n\u001b[1;32m    286\u001b[0m         \u001b[0;32mreturn\u001b[0m \u001b[0m_nx\u001b[0m\u001b[0;34m.\u001b[0m\u001b[0mconcatenate\u001b[0m\u001b[0;34m(\u001b[0m\u001b[0marrs\u001b[0m\u001b[0;34m,\u001b[0m \u001b[0;36m0\u001b[0m\u001b[0;34m)\u001b[0m\u001b[0;34m\u001b[0m\u001b[0m\n\u001b[1;32m    287\u001b[0m     \u001b[0;32melse\u001b[0m\u001b[0;34m:\u001b[0m\u001b[0;34m\u001b[0m\u001b[0m\n\u001b[0;32m--> 288\u001b[0;31m         \u001b[0;32mreturn\u001b[0m \u001b[0m_nx\u001b[0m\u001b[0;34m.\u001b[0m\u001b[0mconcatenate\u001b[0m\u001b[0;34m(\u001b[0m\u001b[0marrs\u001b[0m\u001b[0;34m,\u001b[0m \u001b[0;36m1\u001b[0m\u001b[0;34m)\u001b[0m\u001b[0;34m\u001b[0m\u001b[0m\n\u001b[0m\u001b[1;32m    289\u001b[0m \u001b[0;34m\u001b[0m\u001b[0m\n\u001b[1;32m    290\u001b[0m \u001b[0;34m\u001b[0m\u001b[0m\n",
      "\u001b[0;31mValueError\u001b[0m: need at least one array to concatenate"
     ]
    }
   ],
   "source": [
    "species_ind =np.cumsum([0]+[rxn.num_active_substrates for rxn in reps])\n",
    "species = np.hstack([rxn.active_substrates for rxn in reps])\n",
    "species_dependence = np.hstack([rxn._propensity for rxn in reps])\n",
    "inputs_ind = np.cumsum([0]+[rxn.num_active_inputs for rxn in reps])\n",
    "inputs = np.hstack([rxn.active_inputs for rxn in reps])\n",
    "input_dependence = np.hstack([rxn._input_dependence for rxn in reps])"
   ]
  },
  {
   "cell_type": "code",
   "execution_count": null,
   "metadata": {},
   "outputs": [],
   "source": [
    "input_dependence = np.hstack([rxn._input_dependence for rxn in reps])"
   ]
  },
  {
   "cell_type": "code",
   "execution_count": null,
   "metadata": {},
   "outputs": [],
   "source": [
    "inputs = np.hstack([rxn.active_inputs for rxn in reps])"
   ]
  },
  {
   "cell_type": "code",
   "execution_count": null,
   "metadata": {},
   "outputs": [],
   "source": []
  },
  {
   "cell_type": "code",
   "execution_count": 5,
   "metadata": {},
   "outputs": [],
   "source": [
    "rxns = [rxn for rxn in cell.reactions if rxn.__class__.__name__=='Coupling']"
   ]
  },
  {
   "cell_type": "code",
   "execution_count": 16,
   "metadata": {},
   "outputs": [
    {
     "data": {
      "text/plain": [
       "<function ndarray.astype>"
      ]
     },
     "execution_count": 16,
     "metadata": {},
     "output_type": "execute_result"
    }
   ],
   "source": [
    "arr = np.ones(3)\n",
    "arr.astype"
   ]
  },
  {
   "cell_type": "code",
   "execution_count": 12,
   "metadata": {},
   "outputs": [
    {
     "data": {
      "text/plain": [
       "array([], dtype=float64)"
      ]
     },
     "execution_count": 12,
     "metadata": {},
     "output_type": "execute_result"
    }
   ],
   "source": [
    "rxn = cell.reactions[0]\n",
    "rxn._propensity"
   ]
  },
  {
   "cell_type": "code",
   "execution_count": 13,
   "metadata": {},
   "outputs": [
    {
     "ename": "NameError",
     "evalue": "name 'rxns' is not defined",
     "output_type": "error",
     "traceback": [
      "\u001b[0;31m---------------------------------------------------------------------------\u001b[0m",
      "\u001b[0;31mNameError\u001b[0m                                 Traceback (most recent call last)",
      "\u001b[0;32m<ipython-input-13-34b127ce9961>\u001b[0m in \u001b[0;36m<module>\u001b[0;34m()\u001b[0m\n\u001b[0;32m----> 1\u001b[0;31m \u001b[0;32mfor\u001b[0m \u001b[0mrxn\u001b[0m \u001b[0;32min\u001b[0m \u001b[0mrxns\u001b[0m\u001b[0;34m:\u001b[0m\u001b[0;34m\u001b[0m\u001b[0m\n\u001b[0m\u001b[1;32m      2\u001b[0m     \u001b[0;32mfor\u001b[0m \u001b[0mrep\u001b[0m \u001b[0;32min\u001b[0m \u001b[0mrxn\u001b[0m\u001b[0;34m.\u001b[0m\u001b[0mrepressors\u001b[0m\u001b[0;34m:\u001b[0m\u001b[0;34m\u001b[0m\u001b[0m\n\u001b[1;32m      3\u001b[0m         \u001b[0mprint\u001b[0m\u001b[0;34m(\u001b[0m\u001b[0mrep\u001b[0m\u001b[0;34m.\u001b[0m\u001b[0mk_m\u001b[0m\u001b[0;34m)\u001b[0m\u001b[0;34m\u001b[0m\u001b[0m\n",
      "\u001b[0;31mNameError\u001b[0m: name 'rxns' is not defined"
     ]
    }
   ],
   "source": [
    "for rxn in rxns:\n",
    "    for rep in rxn.repressors:\n",
    "        print(rep.k_m)"
   ]
  },
  {
   "cell_type": "code",
   "execution_count": 14,
   "metadata": {},
   "outputs": [
    {
     "ename": "NameError",
     "evalue": "name 'reduce' is not defined",
     "output_type": "error",
     "traceback": [
      "\u001b[0;31m---------------------------------------------------------------------------\u001b[0m",
      "\u001b[0;31mNameError\u001b[0m                                 Traceback (most recent call last)",
      "\u001b[0;32m<ipython-input-14-953d01a59d07>\u001b[0m in \u001b[0;36m<module>\u001b[0;34m()\u001b[0m\n\u001b[0;32m----> 1\u001b[0;31m \u001b[0mreps\u001b[0m \u001b[0;34m=\u001b[0m \u001b[0mreduce\u001b[0m\u001b[0;34m(\u001b[0m\u001b[0madd\u001b[0m\u001b[0;34m,\u001b[0m \u001b[0;34m[\u001b[0m\u001b[0mrxn\u001b[0m\u001b[0;34m.\u001b[0m\u001b[0mrepressors\u001b[0m \u001b[0;32mfor\u001b[0m \u001b[0mrxn\u001b[0m \u001b[0;32min\u001b[0m \u001b[0mrxns\u001b[0m\u001b[0;34m]\u001b[0m\u001b[0;34m)\u001b[0m\u001b[0;34m\u001b[0m\u001b[0m\n\u001b[0m",
      "\u001b[0;31mNameError\u001b[0m: name 'reduce' is not defined"
     ]
    }
   ],
   "source": [
    "reps = reduce(add, [rxn.repressors for rxn in rxns])"
   ]
  },
  {
   "cell_type": "code",
   "execution_count": 11,
   "metadata": {},
   "outputs": [
    {
     "ename": "NameError",
     "evalue": "name 'reps' is not defined",
     "output_type": "error",
     "traceback": [
      "\u001b[0;31m---------------------------------------------------------------------------\u001b[0m",
      "\u001b[0;31mNameError\u001b[0m                                 Traceback (most recent call last)",
      "\u001b[0;32m<ipython-input-11-8fe164de3065>\u001b[0m in \u001b[0;36m<module>\u001b[0;34m()\u001b[0m\n\u001b[0;32m----> 1\u001b[0;31m \u001b[0malist\u001b[0m \u001b[0;34m=\u001b[0m \u001b[0;34m[\u001b[0m\u001b[0mrxn\u001b[0m\u001b[0;34m.\u001b[0m\u001b[0mk_m\u001b[0m \u001b[0;32mfor\u001b[0m \u001b[0mrxn\u001b[0m \u001b[0;32min\u001b[0m \u001b[0mreps\u001b[0m\u001b[0;34m]\u001b[0m\u001b[0;34m\u001b[0m\u001b[0m\n\u001b[0m\u001b[1;32m      2\u001b[0m \u001b[0mk_m\u001b[0m \u001b[0;34m=\u001b[0m \u001b[0mnp\u001b[0m\u001b[0;34m.\u001b[0m\u001b[0mndarray\u001b[0m\u001b[0;34m(\u001b[0m\u001b[0malist\u001b[0m\u001b[0;34m,\u001b[0m \u001b[0mdtype\u001b[0m\u001b[0;34m=\u001b[0m\u001b[0mnp\u001b[0m\u001b[0;34m.\u001b[0m\u001b[0mfloat64\u001b[0m\u001b[0;34m)\u001b[0m\u001b[0;34m\u001b[0m\u001b[0m\n",
      "\u001b[0;31mNameError\u001b[0m: name 'reps' is not defined"
     ]
    }
   ],
   "source": [
    "alist = [rxn.k_m for rxn in reps]\n",
    "k_m = np.ndarray(alist, dtype=np.float64)"
   ]
  },
  {
   "cell_type": "code",
   "execution_count": 26,
   "metadata": {},
   "outputs": [],
   "source": [
    "arr = np.array(alist, dtype=np.float64)"
   ]
  },
  {
   "cell_type": "code",
   "execution_count": 28,
   "metadata": {},
   "outputs": [
    {
     "data": {
      "text/plain": [
       "True"
      ]
     },
     "execution_count": 28,
     "metadata": {},
     "output_type": "execute_result"
    }
   ],
   "source": [
    "isinstance(arr, np.ndarray)"
   ]
  },
  {
   "cell_type": "code",
   "execution_count": 10,
   "metadata": {},
   "outputs": [],
   "source": [
    "from functools import reduce\n",
    "from operator import add"
   ]
  },
  {
   "cell_type": "code",
   "execution_count": 10,
   "metadata": {},
   "outputs": [],
   "source": [
    "def from_list(rxns):\n",
    "    \"\"\" Instantiate from list of reactions. \"\"\"\n",
    "\n",
    "    # get repressors\n",
    "    reps = reduce(add, [rxn.repressors for rxn in rxns])\n",
    "\n",
    "    # get parameters\n",
    "    M = len(reps)\n",
    "    k_m = np.ndarray([rxn.k_m for rxn in reps], dtype=np.float64)\n",
    "    n = np.ndarray([rxn.n for rxn in reps], dtype=np.float64)\n",
    "\n",
    "    # get species dependence\n",
    "    species_ind = np.cumsum([0]+[rxn.num_active_substrates for rxn in reps])\n",
    "    species = np.hstack([rxn.active_substrates for rxn in reps])\n",
    "    species_dependence = np.hstack([rxn._propensity for rxn in reps])"
   ]
  },
  {
   "cell_type": "code",
   "execution_count": null,
   "metadata": {},
   "outputs": [],
   "source": []
  },
  {
   "cell_type": "code",
   "execution_count": 4,
   "metadata": {},
   "outputs": [],
   "source": []
  },
  {
   "cell_type": "code",
   "execution_count": 3,
   "metadata": {},
   "outputs": [],
   "source": [
    "from rxndiffusion.reactions import Reaction\n",
    "from rxndiffusion.networks import MutableNetwork, Graph\n",
    "\n",
    "class SimpleGene:\n",
    "    \"\"\"\n",
    "    System dimensions:\n",
    "        0: Gene\n",
    "        1: Product\n",
    "    \"\"\"\n",
    "    def __init__(self, name='gene', k=1, g=1):\n",
    "\n",
    "        self.nodes = np.arange(2)\n",
    "        self.genes = {name: 0}\n",
    "        self.proteins = {name: 1}\n",
    "\n",
    "        protein_name = name.upper()\n",
    "        translation = protein_name + ' translation'\n",
    "        protein_decay = protein_name + ' decay'\n",
    "\n",
    "        # define reactions\n",
    "        self.reactions = [\n",
    "            Reaction([0, 1], [1, 0], k=k, rxn_type=translation),\n",
    "            Reaction([0, -1], [0, 1], k=g, rxn_type=protein_decay)]\n",
    "\n",
    "class Gene:\n",
    "    \"\"\"\n",
    "    System dimensions:\n",
    "        0: Gene\n",
    "        1: mRNA\n",
    "        2: Protein\n",
    "    \"\"\"\n",
    "    def __init__(self, name='gene', k1=1, k2=1, g1=1, g2=1):\n",
    "\n",
    "        self.nodes = np.arange(3)\n",
    "        self.genes = {name: 0}\n",
    "        self.transcripts = {name: 1}\n",
    "        self.proteins = {name: 2}\n",
    "\n",
    "        gene_name = name[0].lower()\n",
    "        transcription = gene_name + ' transcription'\n",
    "        mrna_decay = gene_name + ' decay'\n",
    "        protein_name = name.upper()\n",
    "        translation = protein_name + ' translation'\n",
    "        protein_decay = protein_name + ' decay'\n",
    "\n",
    "\n",
    "        # define reactions\n",
    "        self.reactions = [\n",
    "\n",
    "            # transcript synthesis/decay\n",
    "            Reaction([0, 1, 0], [1, 0, 0], k=k1, rxn_type=transcription),\n",
    "            Reaction([0, -1, 0], [0, 1, 0], k=g1, rxn_type=mrna_decay),\n",
    "\n",
    "            # protein synthesis/decay\n",
    "            Reaction([0, 0, 1], [0, 1, 0], k=k2, rxn_type=translation),\n",
    "            Reaction([0, 0, -1], [0, 0, 1], k=g2, rxn_type=protein_decay)]\n",
    "\n",
    "\n",
    "class Cell(MutableNetwork):\n",
    "    def __init__(self, genes=('Yan', 'Pnt'), num_inputs=2, **kwargs):\n",
    "        MutableNetwork.__init__(self, 0, inputs=num_inputs)\n",
    "        self.genes = {}\n",
    "        self.promoters = {}\n",
    "        self.transcripts = {}\n",
    "        self.proteins = {}\n",
    "        self.phosphorylated = {}\n",
    "\n",
    "        # add genes\n",
    "        self.add_genes(genes, **kwargs)\n",
    "\n",
    "    def __repr__(self):\n",
    "        graph = Graph(self)\n",
    "        graph.show_reactions()\n",
    "        return ''\n",
    "\n",
    "    def get_ic(self, dosage, ic=None):\n",
    "        \"\"\" Get initial condition for cell. \"\"\"\n",
    "\n",
    "        # if IC is none, assume all genes in ground state\n",
    "        if ic is None:\n",
    "            ic = np.zeros(self.nodes.size, dtype=np.int64)\n",
    "            for gene, ncopies in dosage.items():\n",
    "                ic[self.genes[gene]] = ncopies\n",
    "\n",
    "        # if IC is mean,var tuple, sample ICs from gaussian\n",
    "        elif type(ic) == tuple:\n",
    "            mean, var = ic\n",
    "            ic = np.random.normal(mean, np.sqrt(var), size=mean.size).astype(int)\n",
    "            ic[ic<0] = 0\n",
    "\n",
    "        # constrain total gene dosage, prioritizing ground states\n",
    "        for gene, ncopies in dosage.items():\n",
    "            off = ic[self.genes[gene]]\n",
    "            if off > ncopies:\n",
    "                off = ncopies\n",
    "\n",
    "            if len(self.promoters[gene]) == 1:\n",
    "                on = ncopies - off\n",
    "                ic[list(self.promoters[gene].values())[0]] = on\n",
    "            else:\n",
    "                taken = 0\n",
    "                for bound_state in self.promoters[gene].values():\n",
    "                    while ic[bound_state] > ncopies - off - taken:\n",
    "                        ic[bound_state] -= 1\n",
    "                    taken = deepcopy(ic[bound_state])\n",
    "                on = sum([ic[bound_state] for bound_state in self.promoters[gene].values()])\n",
    "                diff = ncopies - (on+off)\n",
    "                if diff > 0:\n",
    "                    ic[self.genes[gene]] += diff\n",
    "\n",
    "        return ic\n",
    "\n",
    "    def update(self):\n",
    "        self.node_key = {index: int(node_id) for index, node_id in enumerate(self.nodes)}\n",
    "        self.compile_stoichiometry()\n",
    "        self.resize_inputs()\n",
    "\n",
    "    def add_genes(self, names, **kwargs):\n",
    "        for name in names:\n",
    "            self.add_gene(name=name, **kwargs)\n",
    "\n",
    "    def add_gene(self, **kwargs):\n",
    "\n",
    "        gene = Gene(**kwargs)\n",
    "\n",
    "        # update nodes and reactions\n",
    "        shift = self.nodes.size\n",
    "        added_node_ids = np.arange(shift, shift+gene.nodes.size)\n",
    "        self.update_reaction_dimensions(added_node_ids=added_node_ids)\n",
    "\n",
    "        # add new nodes\n",
    "        self.nodes = np.append(self.nodes, added_node_ids)\n",
    "        self.reactions.extend([rxn.shift(shift) for rxn in gene.reactions])\n",
    "\n",
    "        # update dictionaries\n",
    "        self.genes.update({k: v+shift for k,v in gene.genes.items()})\n",
    "        self.transcripts.update({k: v+shift for k,v in gene.transcripts.items()})\n",
    "        self.proteins.update({k: v+shift for k,v in gene.proteins.items()})\n",
    "        self.promoters.update({k: {} for k in gene.genes.keys()})\n",
    "        self.update()\n",
    "\n",
    "    def add_active_form(self, target, kf=0., kr=0., g=0.):\n",
    "\n",
    "        # update nodes and reactions\n",
    "        node_id = self.nodes.size\n",
    "        added_node_ids = np.arange(node_id, node_id+1)\n",
    "        self.update_reaction_dimensions(added_node_ids=added_node_ids)\n",
    "\n",
    "        # add new nodes\n",
    "        self.nodes = np.append(self.nodes, added_node_ids)\n",
    "\n",
    "        # update dictionaries\n",
    "        self.proteins.update({'p'+target: node_id})\n",
    "        self.phosphorylated.update({target: node_id})\n",
    "\n",
    "        # add forward reaction\n",
    "        stoichiometry = np.zeros(self.nodes.size, dtype=np.int64)\n",
    "        stoichiometry[self.proteins[target]] = -1\n",
    "        stoichiometry[node_id] = 1\n",
    "        propensity = np.zeros(self.nodes.size, dtype=np.int64)\n",
    "        propensity[self.proteins[target]] = 1\n",
    "        activation_name = target.upper() + ' phosphorylation'\n",
    "        activation = Reaction(stoichiometry, propensity, None, k=kf, rxn_type=activation_name)\n",
    "\n",
    "        # add reverse reaction\n",
    "        stoichiometry = np.zeros(self.nodes.size, dtype=np.int64)\n",
    "        stoichiometry[self.proteins[target]] = 1\n",
    "        stoichiometry[node_id] = -1\n",
    "        propensity = np.zeros(self.nodes.size, dtype=np.int64)\n",
    "        propensity[node_id] = 1\n",
    "        deactivation_name = target.upper() + ' dephosphorylation'\n",
    "        deactivation = Reaction(stoichiometry, propensity, None, k=kr, rxn_type=deactivation_name)\n",
    "\n",
    "        # add decay\n",
    "        stoichiometry = np.zeros(self.nodes.size, dtype=np.int64)\n",
    "        stoichiometry[node_id] = -1\n",
    "        decay = Reaction(stoichiometry, None, None, k=g, rxn_type='decay')\n",
    "\n",
    "        # add reactions\n",
    "        rxns = [rxn for rxn in [activation, deactivation, decay] if rxn.rate_constant != 0]\n",
    "        self.reactions.extend(rxns)\n",
    "        self.update()\n",
    "\n",
    "    def get_synthesis_reaction(self, gene, product, k, name='synthesis'):\n",
    "        s = np.zeros(self.nodes.size, dtype=np.int64)\n",
    "        p = np.zeros(self.nodes.size, dtype=np.int64)\n",
    "        s[self.transcripts[product]] = 1\n",
    "        p[gene] = 1\n",
    "        rxn = Reaction(s, p, k=k, rxn_type=name)\n",
    "        return rxn\n",
    "\n",
    "    def add_promoter_binding(self, factor, gene, bound=None, kf=1, kr=1, k=1):\n",
    "\n",
    "        # update nodes, reactions, and promoters\n",
    "        node_id = self.nodes.size\n",
    "        added_node_ids = np.arange(node_id, node_id+1)\n",
    "        self.update_reaction_dimensions(added_node_ids=added_node_ids)\n",
    "        self.nodes = np.append(self.nodes, added_node_ids)\n",
    "\n",
    "        # determine whether acting on unbound or bound gene\n",
    "        if bound is None:\n",
    "            target = self.genes[gene]\n",
    "            name = '-'.join((factor, gene[0].lower()))\n",
    "            self.promoters[gene].update({factor: node_id})\n",
    "        else:\n",
    "            target = self.promoters[gene][bound]\n",
    "            name = '-'.join((factor, bound, gene[0].lower()))\n",
    "\n",
    "        # get promoter binding/unbinding stoichiometry\n",
    "        stoichiometry = np.zeros(self.nodes.size, dtype=np.int64)\n",
    "        stoichiometry[target] = -1\n",
    "        stoichiometry[node_id] = 1\n",
    "\n",
    "        # if transcription factor is not an input, it is consumed\n",
    "        if 'IN' not in factor:\n",
    "            stoichiometry[self.proteins[factor]] = -1\n",
    "            in_dep = None\n",
    "\n",
    "        # if transcription factor is an input, promoter is always active\n",
    "        else:\n",
    "            if '_' in factor:\n",
    "                in_dep = np.zeros(self.input_size, dtype=float)\n",
    "                in_dep[int(factor.split('_')[-1])] = 1\n",
    "            else:\n",
    "                in_dep = 1\n",
    "\n",
    "        # add binding/unbinding\n",
    "        binding = Reaction(stoichiometry, None, in_dep, kf, rxn_type=name+' binding')\n",
    "        unbinding = Reaction(-stoichiometry, None, None, kr, rxn_type=name+' unbinding')\n",
    "\n",
    "        # add transcription\n",
    "        synthesis_name = name+' transcription'\n",
    "        synthesis = self.get_synthesis_reaction(node_id, gene, k, synthesis_name)\n",
    "\n",
    "        # add reactions with nonzero rate\n",
    "        rxns = (binding, unbinding, synthesis)\n",
    "        self.reactions.extend([rxn for rxn in rxns if rxn.rate_constant!=0])\n",
    "        self.update()\n",
    "\n",
    "    def add_repressor(self, factor, gene, kf=1, kr=1, k=0., simple=True, multiplex=False):\n",
    "        promoters = deepcopy(self.promoters[gene])\n",
    "        if simple:\n",
    "            self.add_promoter_binding(factor, gene, None, kf, kr, k)\n",
    "        if multiplex:\n",
    "            for promoter in promoters.keys():\n",
    "                self.add_promoter_binding(factor, gene, promoter, kf, kr, k)"
   ]
  },
  {
   "cell_type": "code",
   "execution_count": 4,
   "metadata": {},
   "outputs": [],
   "source": [
    "from time import time"
   ]
  },
  {
   "cell_type": "code",
   "execution_count": 5,
   "metadata": {},
   "outputs": [],
   "source": [
    "cell = Cell()\n",
    "_ = [cell.add_gene() for _ in range(10)]\n",
    "dosage = dict(Yan=2, Pnt=2)\n",
    "ic = cell.get_ic(dosage)\n",
    "perturbation = cMultiPulse(t_on=[10], t_off=[20], off=[0.], on=[1.])\n",
    "sim = MonteCarloSimulation(cell, ic=ic)"
   ]
  },
  {
   "cell_type": "code",
   "execution_count": 11,
   "metadata": {},
   "outputs": [
    {
     "name": "stdout",
     "output_type": "stream",
     "text": [
      "4.055610179901123\n",
      " \n",
      "*** Profile stats marshalled to file 'profiler.prof'. \n"
     ]
    }
   ],
   "source": [
    "%%prun -D profiler.prof\n",
    "s = time()\n",
    "out = sim.run(perturbation, num_trials=1000, duration=100, dt=1, pure_ssa=False)\n",
    "print(time()-s)"
   ]
  },
  {
   "cell_type": "code",
   "execution_count": 10,
   "metadata": {},
   "outputs": [
    {
     "data": {
      "text/plain": [
       "[<matplotlib.lines.Line2D at 0x112a65358>]"
      ]
     },
     "execution_count": 10,
     "metadata": {},
     "output_type": "execute_result"
    },
    {
     "data": {
      "image/png": "[encoded data removed]",
      "text/plain": [
       "<Figure size 432x288 with 1 Axes>"
      ]
     },
     "metadata": {},
     "output_type": "display_data"
    }
   ],
   "source": [
    "fig, ax = plt.subplots()\n",
    "ax.plot(out.t, out.mean[1])"
   ]
  },
  {
   "cell_type": "code",
   "execution_count": null,
   "metadata": {},
   "outputs": [],
   "source": []
  },
  {
   "cell_type": "code",
   "execution_count": null,
   "metadata": {},
   "outputs": [],
   "source": []
  },
  {
   "cell_type": "code",
   "execution_count": null,
   "metadata": {},
   "outputs": [],
   "source": []
  },
  {
   "cell_type": "code",
   "execution_count": 32,
   "metadata": {},
   "outputs": [],
   "source": [
    "cell.add_transcriptional_repressor(1, 0)"
   ]
  },
  {
   "cell_type": "code",
   "execution_count": 34,
   "metadata": {},
   "outputs": [],
   "source": [
    "rxn = cell.reactions[-2]"
   ]
  },
  {
   "cell_type": "code",
   "execution_count": 38,
   "metadata": {},
   "outputs": [
    {
     "data": {
      "text/plain": [
       "array([], dtype=int64)"
      ]
     },
     "execution_count": 38,
     "metadata": {},
     "output_type": "execute_result"
    }
   ],
   "source": [
    "rxn.active_substrates"
   ]
  },
  {
   "cell_type": "code",
   "execution_count": 36,
   "metadata": {},
   "outputs": [],
   "source": [
    "rep = rxn.repressors[0]"
   ]
  },
  {
   "cell_type": "code",
   "execution_count": 37,
   "metadata": {},
   "outputs": [
    {
     "data": {
      "text/plain": [
       "array([1])"
      ]
     },
     "execution_count": 37,
     "metadata": {},
     "output_type": "execute_result"
    }
   ],
   "source": [
    "rep.active_substrates"
   ]
  },
  {
   "cell_type": "code",
   "execution_count": 33,
   "metadata": {},
   "outputs": [],
   "source": [
    "cell = Cell()"
   ]
  },
  {
   "cell_type": "code",
   "execution_count": 30,
   "metadata": {},
   "outputs": [
    {
     "data": {
      "text/plain": [
       "array([0, 1, 2, 3, 4, 5])"
      ]
     },
     "execution_count": 30,
     "metadata": {},
     "output_type": "execute_result"
    }
   ],
   "source": [
    "cell.nodes"
   ]
  },
  {
   "cell_type": "code",
   "execution_count": 34,
   "metadata": {},
   "outputs": [],
   "source": [
    "\n"
   ]
  },
  {
   "cell_type": "code",
   "execution_count": null,
   "metadata": {},
   "outputs": [],
   "source": []
  }
 ],
 "metadata": {
  "kernelspec": {
   "display_name": "finkler",
   "language": "python",
   "name": "finkler"
  },
  "language_info": {
   "codemirror_mode": {
    "name": "ipython",
    "version": 3
   },
   "file_extension": ".py",
   "mimetype": "text/x-python",
   "name": "python",
   "nbconvert_exporter": "python",
   "pygments_lexer": "ipython3",
   "version": "3.6.4"
  }
 },
 "nbformat": 4,
 "nbformat_minor": 2
}
